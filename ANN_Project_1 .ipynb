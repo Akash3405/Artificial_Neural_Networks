{
 "cells": [
  {
   "cell_type": "markdown",
   "id": "8e6769c1",
   "metadata": {},
   "source": [
    "Importing all libraries"
   ]
  },
  {
   "cell_type": "code",
   "execution_count": 1,
   "id": "25ae1f3b",
   "metadata": {},
   "outputs": [],
   "source": [
    "import pandas as pd\n",
    "import numpy as np\n",
    "import tensorflow as tf\n",
    "import keras"
   ]
  },
  {
   "cell_type": "code",
   "execution_count": 2,
   "id": "414ed7ff",
   "metadata": {},
   "outputs": [
    {
     "data": {
      "text/plain": [
       "'2.13.0'"
      ]
     },
     "execution_count": 2,
     "metadata": {},
     "output_type": "execute_result"
    }
   ],
   "source": [
    "tf.__version__"
   ]
  },
  {
   "cell_type": "markdown",
   "id": "007aa23a",
   "metadata": {},
   "source": [
    "Importing datasets"
   ]
  },
  {
   "cell_type": "code",
   "execution_count": 3,
   "id": "7f49c34d",
   "metadata": {},
   "outputs": [],
   "source": [
    "data = pd.read_excel(\"Folds5x2_pp.xlsx\")\n",
    "x = data.iloc[:,:-1]\n",
    "y = data.iloc[:,-1]"
   ]
  },
  {
   "cell_type": "code",
   "execution_count": 4,
   "id": "4e1769ac",
   "metadata": {},
   "outputs": [
    {
     "data": {
      "text/html": [
       "<div>\n",
       "<style scoped>\n",
       "    .dataframe tbody tr th:only-of-type {\n",
       "        vertical-align: middle;\n",
       "    }\n",
       "\n",
       "    .dataframe tbody tr th {\n",
       "        vertical-align: top;\n",
       "    }\n",
       "\n",
       "    .dataframe thead th {\n",
       "        text-align: right;\n",
       "    }\n",
       "</style>\n",
       "<table border=\"1\" class=\"dataframe\">\n",
       "  <thead>\n",
       "    <tr style=\"text-align: right;\">\n",
       "      <th></th>\n",
       "      <th>AT</th>\n",
       "      <th>V</th>\n",
       "      <th>AP</th>\n",
       "      <th>RH</th>\n",
       "      <th>PE</th>\n",
       "    </tr>\n",
       "  </thead>\n",
       "  <tbody>\n",
       "    <tr>\n",
       "      <th>0</th>\n",
       "      <td>14.96</td>\n",
       "      <td>41.76</td>\n",
       "      <td>1024.07</td>\n",
       "      <td>73.17</td>\n",
       "      <td>463.26</td>\n",
       "    </tr>\n",
       "    <tr>\n",
       "      <th>1</th>\n",
       "      <td>25.18</td>\n",
       "      <td>62.96</td>\n",
       "      <td>1020.04</td>\n",
       "      <td>59.08</td>\n",
       "      <td>444.37</td>\n",
       "    </tr>\n",
       "    <tr>\n",
       "      <th>2</th>\n",
       "      <td>5.11</td>\n",
       "      <td>39.40</td>\n",
       "      <td>1012.16</td>\n",
       "      <td>92.14</td>\n",
       "      <td>488.56</td>\n",
       "    </tr>\n",
       "  </tbody>\n",
       "</table>\n",
       "</div>"
      ],
      "text/plain": [
       "      AT      V       AP     RH      PE\n",
       "0  14.96  41.76  1024.07  73.17  463.26\n",
       "1  25.18  62.96  1020.04  59.08  444.37\n",
       "2   5.11  39.40  1012.16  92.14  488.56"
      ]
     },
     "execution_count": 4,
     "metadata": {},
     "output_type": "execute_result"
    }
   ],
   "source": [
    "data.head(3)"
   ]
  },
  {
   "cell_type": "code",
   "execution_count": 5,
   "id": "601ec393",
   "metadata": {},
   "outputs": [
    {
     "data": {
      "text/html": [
       "<div>\n",
       "<style scoped>\n",
       "    .dataframe tbody tr th:only-of-type {\n",
       "        vertical-align: middle;\n",
       "    }\n",
       "\n",
       "    .dataframe tbody tr th {\n",
       "        vertical-align: top;\n",
       "    }\n",
       "\n",
       "    .dataframe thead th {\n",
       "        text-align: right;\n",
       "    }\n",
       "</style>\n",
       "<table border=\"1\" class=\"dataframe\">\n",
       "  <thead>\n",
       "    <tr style=\"text-align: right;\">\n",
       "      <th></th>\n",
       "      <th>AT</th>\n",
       "      <th>V</th>\n",
       "      <th>AP</th>\n",
       "      <th>RH</th>\n",
       "    </tr>\n",
       "  </thead>\n",
       "  <tbody>\n",
       "    <tr>\n",
       "      <th>0</th>\n",
       "      <td>14.96</td>\n",
       "      <td>41.76</td>\n",
       "      <td>1024.07</td>\n",
       "      <td>73.17</td>\n",
       "    </tr>\n",
       "    <tr>\n",
       "      <th>1</th>\n",
       "      <td>25.18</td>\n",
       "      <td>62.96</td>\n",
       "      <td>1020.04</td>\n",
       "      <td>59.08</td>\n",
       "    </tr>\n",
       "    <tr>\n",
       "      <th>2</th>\n",
       "      <td>5.11</td>\n",
       "      <td>39.40</td>\n",
       "      <td>1012.16</td>\n",
       "      <td>92.14</td>\n",
       "    </tr>\n",
       "    <tr>\n",
       "      <th>3</th>\n",
       "      <td>20.86</td>\n",
       "      <td>57.32</td>\n",
       "      <td>1010.24</td>\n",
       "      <td>76.64</td>\n",
       "    </tr>\n",
       "    <tr>\n",
       "      <th>4</th>\n",
       "      <td>10.82</td>\n",
       "      <td>37.50</td>\n",
       "      <td>1009.23</td>\n",
       "      <td>96.62</td>\n",
       "    </tr>\n",
       "    <tr>\n",
       "      <th>...</th>\n",
       "      <td>...</td>\n",
       "      <td>...</td>\n",
       "      <td>...</td>\n",
       "      <td>...</td>\n",
       "    </tr>\n",
       "    <tr>\n",
       "      <th>9563</th>\n",
       "      <td>16.65</td>\n",
       "      <td>49.69</td>\n",
       "      <td>1014.01</td>\n",
       "      <td>91.00</td>\n",
       "    </tr>\n",
       "    <tr>\n",
       "      <th>9564</th>\n",
       "      <td>13.19</td>\n",
       "      <td>39.18</td>\n",
       "      <td>1023.67</td>\n",
       "      <td>66.78</td>\n",
       "    </tr>\n",
       "    <tr>\n",
       "      <th>9565</th>\n",
       "      <td>31.32</td>\n",
       "      <td>74.33</td>\n",
       "      <td>1012.92</td>\n",
       "      <td>36.48</td>\n",
       "    </tr>\n",
       "    <tr>\n",
       "      <th>9566</th>\n",
       "      <td>24.48</td>\n",
       "      <td>69.45</td>\n",
       "      <td>1013.86</td>\n",
       "      <td>62.39</td>\n",
       "    </tr>\n",
       "    <tr>\n",
       "      <th>9567</th>\n",
       "      <td>21.60</td>\n",
       "      <td>62.52</td>\n",
       "      <td>1017.23</td>\n",
       "      <td>67.87</td>\n",
       "    </tr>\n",
       "  </tbody>\n",
       "</table>\n",
       "<p>9568 rows × 4 columns</p>\n",
       "</div>"
      ],
      "text/plain": [
       "         AT      V       AP     RH\n",
       "0     14.96  41.76  1024.07  73.17\n",
       "1     25.18  62.96  1020.04  59.08\n",
       "2      5.11  39.40  1012.16  92.14\n",
       "3     20.86  57.32  1010.24  76.64\n",
       "4     10.82  37.50  1009.23  96.62\n",
       "...     ...    ...      ...    ...\n",
       "9563  16.65  49.69  1014.01  91.00\n",
       "9564  13.19  39.18  1023.67  66.78\n",
       "9565  31.32  74.33  1012.92  36.48\n",
       "9566  24.48  69.45  1013.86  62.39\n",
       "9567  21.60  62.52  1017.23  67.87\n",
       "\n",
       "[9568 rows x 4 columns]"
      ]
     },
     "execution_count": 5,
     "metadata": {},
     "output_type": "execute_result"
    }
   ],
   "source": [
    "x"
   ]
  },
  {
   "cell_type": "code",
   "execution_count": 6,
   "id": "a45987d3",
   "metadata": {},
   "outputs": [
    {
     "data": {
      "text/plain": [
       "0       463.26\n",
       "1       444.37\n",
       "2       488.56\n",
       "3       446.48\n",
       "4       473.90\n",
       "         ...  \n",
       "9563    460.03\n",
       "9564    469.62\n",
       "9565    429.57\n",
       "9566    435.74\n",
       "9567    453.28\n",
       "Name: PE, Length: 9568, dtype: float64"
      ]
     },
     "execution_count": 6,
     "metadata": {},
     "output_type": "execute_result"
    }
   ],
   "source": [
    "y"
   ]
  },
  {
   "cell_type": "markdown",
   "id": "1aae4067",
   "metadata": {},
   "source": [
    " Spliting data into training and testing"
   ]
  },
  {
   "cell_type": "code",
   "execution_count": 7,
   "id": "17f353ac",
   "metadata": {},
   "outputs": [],
   "source": [
    "from sklearn.model_selection import train_test_split\n",
    "x_train,x_test,y_train,y_test = train_test_split(x,y,test_size=0.2,random_state=0)"
   ]
  },
  {
   "cell_type": "code",
   "execution_count": 8,
   "id": "2a94bc1b",
   "metadata": {},
   "outputs": [
    {
     "data": {
      "text/plain": [
       "(7654, 4)"
      ]
     },
     "execution_count": 8,
     "metadata": {},
     "output_type": "execute_result"
    }
   ],
   "source": [
    "x_train.shape"
   ]
  },
  {
   "cell_type": "code",
   "execution_count": 9,
   "id": "3d609a3b",
   "metadata": {},
   "outputs": [
    {
     "data": {
      "text/plain": [
       "(1914, 4)"
      ]
     },
     "execution_count": 9,
     "metadata": {},
     "output_type": "execute_result"
    }
   ],
   "source": [
    "x_test.shape"
   ]
  },
  {
   "cell_type": "code",
   "execution_count": 10,
   "id": "6a394a09",
   "metadata": {},
   "outputs": [
    {
     "data": {
      "text/plain": [
       "(1914,)"
      ]
     },
     "execution_count": 10,
     "metadata": {},
     "output_type": "execute_result"
    }
   ],
   "source": [
    "y_test.shape"
   ]
  },
  {
   "cell_type": "code",
   "execution_count": 11,
   "id": "c9c4faf4",
   "metadata": {},
   "outputs": [
    {
     "data": {
      "text/plain": [
       "(7654,)"
      ]
     },
     "execution_count": 11,
     "metadata": {},
     "output_type": "execute_result"
    }
   ],
   "source": [
    "y_train.shape"
   ]
  },
  {
   "cell_type": "markdown",
   "id": "5403f722",
   "metadata": {},
   "source": [
    "Building the ANN"
   ]
  },
  {
   "cell_type": "code",
   "execution_count": 12,
   "id": "fd1f7c24",
   "metadata": {},
   "outputs": [],
   "source": [
    "ann = tf.keras.models.Sequential()"
   ]
  },
  {
   "cell_type": "markdown",
   "id": "c583daa5",
   "metadata": {},
   "source": [
    "adding input and 1st hidden  layers"
   ]
  },
  {
   "cell_type": "code",
   "execution_count": 13,
   "id": "144258f0",
   "metadata": {},
   "outputs": [],
   "source": [
    "ann.add(tf.keras.layers.Dense(units=6,activation='relu'))"
   ]
  },
  {
   "cell_type": "code",
   "execution_count": 14,
   "id": "9d53fa2f",
   "metadata": {},
   "outputs": [
    {
     "data": {
      "text/plain": [
       "<keras.src.engine.sequential.Sequential at 0x22eca19dc90>"
      ]
     },
     "execution_count": 14,
     "metadata": {},
     "output_type": "execute_result"
    }
   ],
   "source": [
    "ann"
   ]
  },
  {
   "cell_type": "markdown",
   "id": "814080e1",
   "metadata": {},
   "source": [
    "adding 2nd hidden  layers"
   ]
  },
  {
   "cell_type": "code",
   "execution_count": 15,
   "id": "3d1a4916",
   "metadata": {},
   "outputs": [],
   "source": [
    "ann.add(tf.keras.layers.Dense(units=6,activation='relu'))"
   ]
  },
  {
   "cell_type": "markdown",
   "id": "f32650df",
   "metadata": {},
   "source": [
    "adding output layer"
   ]
  },
  {
   "cell_type": "code",
   "execution_count": 16,
   "id": "d4649ea9",
   "metadata": {},
   "outputs": [],
   "source": [
    "ann.add(tf.keras.layers.Dense(units=1))"
   ]
  },
  {
   "cell_type": "markdown",
   "id": "16c4fbd1",
   "metadata": {},
   "source": [
    "Compiling the ANN"
   ]
  },
  {
   "cell_type": "code",
   "execution_count": 17,
   "id": "bff9cc3b",
   "metadata": {},
   "outputs": [],
   "source": [
    "ann.compile(optimizer = 'adam', loss = 'mean_squared_error')"
   ]
  },
  {
   "cell_type": "markdown",
   "id": "f95b2b5a",
   "metadata": {},
   "source": [
    "Training the ANN model on the Training set"
   ]
  },
  {
   "cell_type": "code",
   "execution_count": 18,
   "id": "c3c22fd2",
   "metadata": {},
   "outputs": [
    {
     "name": "stdout",
     "output_type": "stream",
     "text": [
      "Epoch 1/50\n",
      "240/240 [==============================] - 2s 3ms/step - loss: 2816.8423\n",
      "Epoch 2/50\n",
      "240/240 [==============================] - 1s 2ms/step - loss: 692.9312\n",
      "Epoch 3/50\n",
      "240/240 [==============================] - 1s 2ms/step - loss: 601.1458\n",
      "Epoch 4/50\n",
      "240/240 [==============================] - 0s 2ms/step - loss: 505.4196\n",
      "Epoch 5/50\n",
      "240/240 [==============================] - 1s 2ms/step - loss: 415.5223\n",
      "Epoch 6/50\n",
      "240/240 [==============================] - 1s 2ms/step - loss: 333.1859\n",
      "Epoch 7/50\n",
      "240/240 [==============================] - 1s 2ms/step - loss: 262.1137\n",
      "Epoch 8/50\n",
      "240/240 [==============================] - 1s 2ms/step - loss: 200.0932\n",
      "Epoch 9/50\n",
      "240/240 [==============================] - 1s 2ms/step - loss: 150.6160\n",
      "Epoch 10/50\n",
      "240/240 [==============================] - 1s 2ms/step - loss: 111.9784\n",
      "Epoch 11/50\n",
      "240/240 [==============================] - 1s 2ms/step - loss: 83.8315\n",
      "Epoch 12/50\n",
      "240/240 [==============================] - 1s 2ms/step - loss: 63.8716\n",
      "Epoch 13/50\n",
      "240/240 [==============================] - 1s 2ms/step - loss: 51.5219\n",
      "Epoch 14/50\n",
      "240/240 [==============================] - 1s 2ms/step - loss: 43.8462\n",
      "Epoch 15/50\n",
      "240/240 [==============================] - 1s 2ms/step - loss: 38.6111\n",
      "Epoch 16/50\n",
      "240/240 [==============================] - 1s 2ms/step - loss: 35.3793\n",
      "Epoch 17/50\n",
      "240/240 [==============================] - 1s 2ms/step - loss: 33.4998\n",
      "Epoch 18/50\n",
      "240/240 [==============================] - 1s 2ms/step - loss: 31.8893\n",
      "Epoch 19/50\n",
      "240/240 [==============================] - 1s 2ms/step - loss: 30.7580\n",
      "Epoch 20/50\n",
      "240/240 [==============================] - 1s 2ms/step - loss: 30.2648\n",
      "Epoch 21/50\n",
      "240/240 [==============================] - 1s 2ms/step - loss: 29.9087\n",
      "Epoch 22/50\n",
      "240/240 [==============================] - 1s 2ms/step - loss: 29.3389\n",
      "Epoch 23/50\n",
      "240/240 [==============================] - 1s 2ms/step - loss: 29.1082\n",
      "Epoch 24/50\n",
      "240/240 [==============================] - 1s 2ms/step - loss: 28.6072\n",
      "Epoch 25/50\n",
      "240/240 [==============================] - 1s 2ms/step - loss: 29.0272\n",
      "Epoch 26/50\n",
      "240/240 [==============================] - 1s 2ms/step - loss: 28.3149\n",
      "Epoch 27/50\n",
      "240/240 [==============================] - 1s 2ms/step - loss: 28.1245\n",
      "Epoch 28/50\n",
      "240/240 [==============================] - 1s 2ms/step - loss: 28.1501\n",
      "Epoch 29/50\n",
      "240/240 [==============================] - 1s 2ms/step - loss: 27.6384\n",
      "Epoch 30/50\n",
      "240/240 [==============================] - 1s 2ms/step - loss: 27.9149\n",
      "Epoch 31/50\n",
      "240/240 [==============================] - 1s 2ms/step - loss: 27.9673\n",
      "Epoch 32/50\n",
      "240/240 [==============================] - 1s 2ms/step - loss: 27.3140\n",
      "Epoch 33/50\n",
      "240/240 [==============================] - 1s 2ms/step - loss: 27.4074\n",
      "Epoch 34/50\n",
      "240/240 [==============================] - 1s 2ms/step - loss: 27.4606\n",
      "Epoch 35/50\n",
      "240/240 [==============================] - 1s 2ms/step - loss: 26.9155\n",
      "Epoch 36/50\n",
      "240/240 [==============================] - 0s 2ms/step - loss: 26.9830\n",
      "Epoch 37/50\n",
      "240/240 [==============================] - 1s 2ms/step - loss: 27.3121\n",
      "Epoch 38/50\n",
      "240/240 [==============================] - 1s 2ms/step - loss: 28.4987\n",
      "Epoch 39/50\n",
      "240/240 [==============================] - 1s 2ms/step - loss: 27.4842\n",
      "Epoch 40/50\n",
      "240/240 [==============================] - 1s 2ms/step - loss: 26.7721\n",
      "Epoch 41/50\n",
      "240/240 [==============================] - 1s 2ms/step - loss: 27.2049\n",
      "Epoch 42/50\n",
      "240/240 [==============================] - 1s 2ms/step - loss: 27.0166\n",
      "Epoch 43/50\n",
      "240/240 [==============================] - 1s 2ms/step - loss: 27.4335\n",
      "Epoch 44/50\n",
      "240/240 [==============================] - 1s 2ms/step - loss: 26.5050\n",
      "Epoch 45/50\n",
      "240/240 [==============================] - 1s 2ms/step - loss: 27.3654\n",
      "Epoch 46/50\n",
      "240/240 [==============================] - 1s 2ms/step - loss: 27.1911\n",
      "Epoch 47/50\n",
      "240/240 [==============================] - 1s 2ms/step - loss: 26.9407\n",
      "Epoch 48/50\n",
      "240/240 [==============================] - 1s 2ms/step - loss: 27.0107\n",
      "Epoch 49/50\n",
      "240/240 [==============================] - 1s 2ms/step - loss: 26.6746\n",
      "Epoch 50/50\n",
      "240/240 [==============================] - 1s 2ms/step - loss: 26.8147\n"
     ]
    },
    {
     "data": {
      "text/plain": [
       "<keras.src.callbacks.History at 0x22ecabf3150>"
      ]
     },
     "execution_count": 18,
     "metadata": {},
     "output_type": "execute_result"
    }
   ],
   "source": [
    "ann.fit(x_train,y_train,batch_size=32,epochs=50)"
   ]
  },
  {
   "cell_type": "markdown",
   "id": "2c720bbd",
   "metadata": {},
   "source": [
    "Predicting the results of the Test set"
   ]
  },
  {
   "cell_type": "code",
   "execution_count": 31,
   "id": "13d51656",
   "metadata": {},
   "outputs": [
    {
     "name": "stdout",
     "output_type": "stream",
     "text": [
      "60/60 [==============================] - 0s 2ms/step\n"
     ]
    },
    {
     "data": {
      "text/plain": [
       "array([[430.03],\n",
       "       [461.33],\n",
       "       [464.93],\n",
       "       ...,\n",
       "       [471.98],\n",
       "       [439.12],\n",
       "       [458.2 ]], dtype=float32)"
      ]
     },
     "execution_count": 31,
     "metadata": {},
     "output_type": "execute_result"
    }
   ],
   "source": [
    "y_pred = ann.predict(x_test)\n",
    "y_pred"
   ]
  },
  {
   "cell_type": "code",
   "execution_count": 50,
   "id": "4e1c7f60",
   "metadata": {},
   "outputs": [
    {
     "data": {
      "text/plain": [
       "array([[431.23],\n",
       "       [460.01],\n",
       "       [461.14],\n",
       "       ...,\n",
       "       [473.26],\n",
       "       [438.  ],\n",
       "       [463.28]])"
      ]
     },
     "execution_count": 50,
     "metadata": {},
     "output_type": "execute_result"
    }
   ],
   "source": [
    "y_test = y_test.reshape(len(y_test),1)\n",
    "y_test"
   ]
  },
  {
   "cell_type": "code",
   "execution_count": 55,
   "id": "208c1442",
   "metadata": {},
   "outputs": [
    {
     "data": {
      "text/plain": [
       "array([[430.03, 431.23],\n",
       "       [461.33, 460.01],\n",
       "       [464.93, 461.14],\n",
       "       ...,\n",
       "       [471.98, 473.26],\n",
       "       [439.12, 438.  ],\n",
       "       [458.2 , 463.28]])"
      ]
     },
     "execution_count": 55,
     "metadata": {},
     "output_type": "execute_result"
    }
   ],
   "source": [
    "np.concatenate((y_pred,y_test),1)"
   ]
  }
 ],
 "metadata": {
  "kernelspec": {
   "display_name": "Python 3 (ipykernel)",
   "language": "python",
   "name": "python3"
  },
  "language_info": {
   "codemirror_mode": {
    "name": "ipython",
    "version": 3
   },
   "file_extension": ".py",
   "mimetype": "text/x-python",
   "name": "python",
   "nbconvert_exporter": "python",
   "pygments_lexer": "ipython3",
   "version": "3.11.3"
  }
 },
 "nbformat": 4,
 "nbformat_minor": 5
}
