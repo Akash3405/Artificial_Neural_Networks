{
 "cells": [
  {
   "cell_type": "markdown",
   "id": "7bec9f10",
   "metadata": {},
   "source": [
    "## Using power plant data, based upon temperature,volume,pressure and humidity predicted energy "
   ]
  },
  {
   "cell_type": "markdown",
   "id": "cd58a45b",
   "metadata": {},
   "source": [
    "### Importing all libraries"
   ]
  },
  {
   "cell_type": "code",
   "execution_count": 2,
   "id": "25ae1f3b",
   "metadata": {},
   "outputs": [],
   "source": [
    "import pandas as pd\n",
    "import numpy as np\n",
    "import tensorflow as tf\n",
    "import keras"
   ]
  },
  {
   "cell_type": "code",
   "execution_count": 3,
   "id": "414ed7ff",
   "metadata": {},
   "outputs": [
    {
     "data": {
      "text/plain": [
       "'2.13.0'"
      ]
     },
     "execution_count": 3,
     "metadata": {},
     "output_type": "execute_result"
    }
   ],
   "source": [
    "tf.__version__   # Checking tensorflow version"
   ]
  },
  {
   "cell_type": "markdown",
   "id": "1b3a6faf",
   "metadata": {},
   "source": [
    "## Importing dataset"
   ]
  },
  {
   "cell_type": "code",
   "execution_count": 4,
   "id": "7f49c34d",
   "metadata": {},
   "outputs": [],
   "source": [
    "data = pd.read_excel(\"Folds5x2_pp.xlsx\")"
   ]
  },
  {
   "cell_type": "code",
   "execution_count": 5,
   "id": "4e1769ac",
   "metadata": {},
   "outputs": [
    {
     "data": {
      "text/html": [
       "<div>\n",
       "<style scoped>\n",
       "    .dataframe tbody tr th:only-of-type {\n",
       "        vertical-align: middle;\n",
       "    }\n",
       "\n",
       "    .dataframe tbody tr th {\n",
       "        vertical-align: top;\n",
       "    }\n",
       "\n",
       "    .dataframe thead th {\n",
       "        text-align: right;\n",
       "    }\n",
       "</style>\n",
       "<table border=\"1\" class=\"dataframe\">\n",
       "  <thead>\n",
       "    <tr style=\"text-align: right;\">\n",
       "      <th></th>\n",
       "      <th>AT</th>\n",
       "      <th>V</th>\n",
       "      <th>AP</th>\n",
       "      <th>RH</th>\n",
       "      <th>PE</th>\n",
       "    </tr>\n",
       "  </thead>\n",
       "  <tbody>\n",
       "    <tr>\n",
       "      <th>0</th>\n",
       "      <td>14.96</td>\n",
       "      <td>41.76</td>\n",
       "      <td>1024.07</td>\n",
       "      <td>73.17</td>\n",
       "      <td>463.26</td>\n",
       "    </tr>\n",
       "    <tr>\n",
       "      <th>1</th>\n",
       "      <td>25.18</td>\n",
       "      <td>62.96</td>\n",
       "      <td>1020.04</td>\n",
       "      <td>59.08</td>\n",
       "      <td>444.37</td>\n",
       "    </tr>\n",
       "    <tr>\n",
       "      <th>2</th>\n",
       "      <td>5.11</td>\n",
       "      <td>39.40</td>\n",
       "      <td>1012.16</td>\n",
       "      <td>92.14</td>\n",
       "      <td>488.56</td>\n",
       "    </tr>\n",
       "  </tbody>\n",
       "</table>\n",
       "</div>"
      ],
      "text/plain": [
       "      AT      V       AP     RH      PE\n",
       "0  14.96  41.76  1024.07  73.17  463.26\n",
       "1  25.18  62.96  1020.04  59.08  444.37\n",
       "2   5.11  39.40  1012.16  92.14  488.56"
      ]
     },
     "execution_count": 5,
     "metadata": {},
     "output_type": "execute_result"
    }
   ],
   "source": [
    "data.head(3)"
   ]
  },
  {
   "cell_type": "markdown",
   "id": "732c3dc2",
   "metadata": {},
   "source": [
    "## Separating data into dependent and independent variable"
   ]
  },
  {
   "cell_type": "code",
   "execution_count": 6,
   "id": "0e3410e1",
   "metadata": {},
   "outputs": [],
   "source": [
    "x = data.iloc[:,:-1].values\n",
    "y = data.iloc[:,-1].values"
   ]
  },
  {
   "cell_type": "code",
   "execution_count": 7,
   "id": "601ec393",
   "metadata": {},
   "outputs": [
    {
     "data": {
      "text/plain": [
       "array([[  14.96,   41.76, 1024.07,   73.17],\n",
       "       [  25.18,   62.96, 1020.04,   59.08],\n",
       "       [   5.11,   39.4 , 1012.16,   92.14],\n",
       "       ...,\n",
       "       [  31.32,   74.33, 1012.92,   36.48],\n",
       "       [  24.48,   69.45, 1013.86,   62.39],\n",
       "       [  21.6 ,   62.52, 1017.23,   67.87]])"
      ]
     },
     "execution_count": 7,
     "metadata": {},
     "output_type": "execute_result"
    }
   ],
   "source": [
    "x"
   ]
  },
  {
   "cell_type": "code",
   "execution_count": 8,
   "id": "a45987d3",
   "metadata": {},
   "outputs": [
    {
     "data": {
      "text/plain": [
       "array([463.26, 444.37, 488.56, ..., 429.57, 435.74, 453.28])"
      ]
     },
     "execution_count": 8,
     "metadata": {},
     "output_type": "execute_result"
    }
   ],
   "source": [
    "y"
   ]
  },
  {
   "cell_type": "markdown",
   "id": "34f17bd4",
   "metadata": {},
   "source": [
    " ## Spliting data into training and testing"
   ]
  },
  {
   "cell_type": "code",
   "execution_count": 9,
   "id": "17f353ac",
   "metadata": {},
   "outputs": [],
   "source": [
    "from sklearn.model_selection import train_test_split\n",
    "x_train,x_test,y_train,y_test = train_test_split(x,y,test_size=0.2,random_state=0)"
   ]
  },
  {
   "cell_type": "code",
   "execution_count": 10,
   "id": "2a94bc1b",
   "metadata": {},
   "outputs": [
    {
     "data": {
      "text/plain": [
       "(7654, 4)"
      ]
     },
     "execution_count": 10,
     "metadata": {},
     "output_type": "execute_result"
    }
   ],
   "source": [
    "x_train.shape"
   ]
  },
  {
   "cell_type": "code",
   "execution_count": 11,
   "id": "3d609a3b",
   "metadata": {},
   "outputs": [
    {
     "data": {
      "text/plain": [
       "(1914, 4)"
      ]
     },
     "execution_count": 11,
     "metadata": {},
     "output_type": "execute_result"
    }
   ],
   "source": [
    "x_test.shape"
   ]
  },
  {
   "cell_type": "code",
   "execution_count": 12,
   "id": "6a394a09",
   "metadata": {},
   "outputs": [
    {
     "data": {
      "text/plain": [
       "(1914,)"
      ]
     },
     "execution_count": 12,
     "metadata": {},
     "output_type": "execute_result"
    }
   ],
   "source": [
    "y_test.shape"
   ]
  },
  {
   "cell_type": "code",
   "execution_count": 13,
   "id": "c9c4faf4",
   "metadata": {},
   "outputs": [
    {
     "data": {
      "text/plain": [
       "(7654,)"
      ]
     },
     "execution_count": 13,
     "metadata": {},
     "output_type": "execute_result"
    }
   ],
   "source": [
    "y_train.shape"
   ]
  },
  {
   "cell_type": "markdown",
   "id": "2133907d",
   "metadata": {},
   "source": [
    "## Building the ANN"
   ]
  },
  {
   "cell_type": "code",
   "execution_count": 14,
   "id": "fd1f7c24",
   "metadata": {},
   "outputs": [],
   "source": [
    "ann = tf.keras.models.Sequential()"
   ]
  },
  {
   "cell_type": "markdown",
   "id": "1355db26",
   "metadata": {},
   "source": [
    "## adding input and 1st hidden  layers"
   ]
  },
  {
   "cell_type": "code",
   "execution_count": 15,
   "id": "144258f0",
   "metadata": {},
   "outputs": [],
   "source": [
    "ann.add(tf.keras.layers.Dense(units=6,activation='relu'))"
   ]
  },
  {
   "cell_type": "code",
   "execution_count": 16,
   "id": "9d53fa2f",
   "metadata": {},
   "outputs": [
    {
     "data": {
      "text/plain": [
       "<keras.src.engine.sequential.Sequential at 0x27d9f4d2d50>"
      ]
     },
     "execution_count": 16,
     "metadata": {},
     "output_type": "execute_result"
    }
   ],
   "source": [
    "ann"
   ]
  },
  {
   "cell_type": "markdown",
   "id": "3b43a36e",
   "metadata": {},
   "source": [
    "## Adding 2nd hidden  layers"
   ]
  },
  {
   "cell_type": "code",
   "execution_count": 17,
   "id": "3d1a4916",
   "metadata": {},
   "outputs": [],
   "source": [
    "ann.add(tf.keras.layers.Dense(units=6,activation='relu'))"
   ]
  },
  {
   "cell_type": "markdown",
   "id": "f97d701c",
   "metadata": {},
   "source": [
    "## Adding output layer"
   ]
  },
  {
   "cell_type": "code",
   "execution_count": 18,
   "id": "d4649ea9",
   "metadata": {},
   "outputs": [],
   "source": [
    "ann.add(tf.keras.layers.Dense(units=1))"
   ]
  },
  {
   "cell_type": "markdown",
   "id": "10eaefd3",
   "metadata": {},
   "source": [
    "## Compiling the ANN"
   ]
  },
  {
   "cell_type": "code",
   "execution_count": 19,
   "id": "bff9cc3b",
   "metadata": {},
   "outputs": [],
   "source": [
    "ann.compile(optimizer = 'adam', loss = 'mean_squared_error')"
   ]
  },
  {
   "cell_type": "markdown",
   "id": "73d09a56",
   "metadata": {},
   "source": [
    "## Training the ANN model on the Training set"
   ]
  },
  {
   "cell_type": "code",
   "execution_count": 20,
   "id": "c3c22fd2",
   "metadata": {},
   "outputs": [
    {
     "name": "stdout",
     "output_type": "stream",
     "text": [
      "Epoch 1/50\n",
      "240/240 [==============================] - 2s 3ms/step - loss: 788.4733\n",
      "Epoch 2/50\n",
      "240/240 [==============================] - 1s 3ms/step - loss: 70.2796\n",
      "Epoch 3/50\n",
      "240/240 [==============================] - 1s 3ms/step - loss: 64.6112\n",
      "Epoch 4/50\n",
      "240/240 [==============================] - 1s 2ms/step - loss: 58.9020\n",
      "Epoch 5/50\n",
      "240/240 [==============================] - 1s 3ms/step - loss: 53.6695\n",
      "Epoch 6/50\n",
      "240/240 [==============================] - 1s 3ms/step - loss: 49.0780\n",
      "Epoch 7/50\n",
      "240/240 [==============================] - 1s 3ms/step - loss: 45.6322\n",
      "Epoch 8/50\n",
      "240/240 [==============================] - 1s 3ms/step - loss: 42.1698\n",
      "Epoch 9/50\n",
      "240/240 [==============================] - 1s 2ms/step - loss: 39.3778\n",
      "Epoch 10/50\n",
      "240/240 [==============================] - 1s 2ms/step - loss: 38.1268\n",
      "Epoch 11/50\n",
      "240/240 [==============================] - 1s 2ms/step - loss: 35.9988\n",
      "Epoch 12/50\n",
      "240/240 [==============================] - 1s 2ms/step - loss: 35.6356\n",
      "Epoch 13/50\n",
      "240/240 [==============================] - 1s 2ms/step - loss: 34.0822\n",
      "Epoch 14/50\n",
      "240/240 [==============================] - 1s 2ms/step - loss: 32.9376\n",
      "Epoch 15/50\n",
      "240/240 [==============================] - 1s 3ms/step - loss: 33.0457\n",
      "Epoch 16/50\n",
      "240/240 [==============================] - 1s 2ms/step - loss: 32.1450\n",
      "Epoch 17/50\n",
      "240/240 [==============================] - 1s 2ms/step - loss: 30.6645\n",
      "Epoch 18/50\n",
      "240/240 [==============================] - 1s 3ms/step - loss: 30.4003\n",
      "Epoch 19/50\n",
      "240/240 [==============================] - 1s 2ms/step - loss: 30.1653\n",
      "Epoch 20/50\n",
      "240/240 [==============================] - 1s 2ms/step - loss: 29.3127\n",
      "Epoch 21/50\n",
      "240/240 [==============================] - 1s 2ms/step - loss: 29.2400\n",
      "Epoch 22/50\n",
      "240/240 [==============================] - 1s 2ms/step - loss: 29.0063\n",
      "Epoch 23/50\n",
      "240/240 [==============================] - 1s 2ms/step - loss: 28.4660\n",
      "Epoch 24/50\n",
      "240/240 [==============================] - 1s 3ms/step - loss: 28.6130\n",
      "Epoch 25/50\n",
      "240/240 [==============================] - 1s 2ms/step - loss: 28.5720\n",
      "Epoch 26/50\n",
      "240/240 [==============================] - 1s 3ms/step - loss: 27.9633\n",
      "Epoch 27/50\n",
      "240/240 [==============================] - 1s 2ms/step - loss: 28.0450\n",
      "Epoch 28/50\n",
      "240/240 [==============================] - 1s 2ms/step - loss: 27.7302\n",
      "Epoch 29/50\n",
      "240/240 [==============================] - 1s 2ms/step - loss: 27.5363\n",
      "Epoch 30/50\n",
      "240/240 [==============================] - 1s 2ms/step - loss: 27.2607\n",
      "Epoch 31/50\n",
      "240/240 [==============================] - 1s 2ms/step - loss: 26.8602\n",
      "Epoch 32/50\n",
      "240/240 [==============================] - 1s 2ms/step - loss: 27.3010\n",
      "Epoch 33/50\n",
      "240/240 [==============================] - 1s 2ms/step - loss: 27.1182\n",
      "Epoch 34/50\n",
      "240/240 [==============================] - 1s 2ms/step - loss: 27.6259\n",
      "Epoch 35/50\n",
      "240/240 [==============================] - 1s 2ms/step - loss: 27.3345\n",
      "Epoch 36/50\n",
      "240/240 [==============================] - 1s 3ms/step - loss: 27.4670\n",
      "Epoch 37/50\n",
      "240/240 [==============================] - 1s 2ms/step - loss: 26.5215\n",
      "Epoch 38/50\n",
      "240/240 [==============================] - 1s 2ms/step - loss: 26.9202\n",
      "Epoch 39/50\n",
      "240/240 [==============================] - 1s 3ms/step - loss: 27.1574\n",
      "Epoch 40/50\n",
      "240/240 [==============================] - 1s 2ms/step - loss: 26.9710\n",
      "Epoch 41/50\n",
      "240/240 [==============================] - 1s 2ms/step - loss: 27.1180\n",
      "Epoch 42/50\n",
      "240/240 [==============================] - 1s 2ms/step - loss: 26.9815\n",
      "Epoch 43/50\n",
      "240/240 [==============================] - 1s 2ms/step - loss: 26.9451\n",
      "Epoch 44/50\n",
      "240/240 [==============================] - 1s 2ms/step - loss: 27.3249\n",
      "Epoch 45/50\n",
      "240/240 [==============================] - 1s 2ms/step - loss: 27.3087\n",
      "Epoch 46/50\n",
      "240/240 [==============================] - 1s 2ms/step - loss: 27.1516\n",
      "Epoch 47/50\n",
      "240/240 [==============================] - 1s 3ms/step - loss: 27.0786\n",
      "Epoch 48/50\n",
      "240/240 [==============================] - 1s 3ms/step - loss: 27.5503\n",
      "Epoch 49/50\n",
      "240/240 [==============================] - 1s 3ms/step - loss: 27.2550\n",
      "Epoch 50/50\n",
      "240/240 [==============================] - 1s 2ms/step - loss: 26.9249\n"
     ]
    },
    {
     "data": {
      "text/plain": [
       "<keras.src.callbacks.History at 0x27da1272d10>"
      ]
     },
     "execution_count": 20,
     "metadata": {},
     "output_type": "execute_result"
    }
   ],
   "source": [
    "ann.fit(x_train,y_train,batch_size=32,epochs=50)"
   ]
  },
  {
   "cell_type": "markdown",
   "id": "a1d4c0cf",
   "metadata": {},
   "source": [
    "## Predicting the results of the Test set"
   ]
  },
  {
   "cell_type": "code",
   "execution_count": 21,
   "id": "13d51656",
   "metadata": {},
   "outputs": [
    {
     "name": "stdout",
     "output_type": "stream",
     "text": [
      "60/60 [==============================] - 0s 2ms/step\n"
     ]
    },
    {
     "data": {
      "text/plain": [
       "array([[430.94217],\n",
       "       [461.8091 ],\n",
       "       [465.22913],\n",
       "       ...,\n",
       "       [472.44016],\n",
       "       [439.61502],\n",
       "       [458.6007 ]], dtype=float32)"
      ]
     },
     "execution_count": 21,
     "metadata": {},
     "output_type": "execute_result"
    }
   ],
   "source": [
    "y_pred = ann.predict(x_test)   # Predicting test data\n",
    "y_pred"
   ]
  },
  {
   "cell_type": "code",
   "execution_count": 22,
   "id": "4e1c7f60",
   "metadata": {},
   "outputs": [
    {
     "data": {
      "text/plain": [
       "array([[431.23],\n",
       "       [460.01],\n",
       "       [461.14],\n",
       "       ...,\n",
       "       [473.26],\n",
       "       [438.  ],\n",
       "       [463.28]])"
      ]
     },
     "execution_count": 22,
     "metadata": {},
     "output_type": "execute_result"
    }
   ],
   "source": [
    "y_test = y_test.reshape(len(y_test),1)\n",
    "y_test"
   ]
  },
  {
   "cell_type": "code",
   "execution_count": 23,
   "id": "208c1442",
   "metadata": {},
   "outputs": [
    {
     "data": {
      "text/plain": [
       "array([[430.94216919, 431.23      ],\n",
       "       [461.80911255, 460.01      ],\n",
       "       [465.22912598, 461.14      ],\n",
       "       ...,\n",
       "       [472.44015503, 473.26      ],\n",
       "       [439.61502075, 438.        ],\n",
       "       [458.60070801, 463.28      ]])"
      ]
     },
     "execution_count": 23,
     "metadata": {},
     "output_type": "execute_result"
    }
   ],
   "source": [
    "np.concatenate((y_pred,y_test),1)    # Now we can compare the test data and predicted data it is showing approximately same value in both "
   ]
  }
 ],
 "metadata": {
  "kernelspec": {
   "display_name": "Python 3 (ipykernel)",
   "language": "python",
   "name": "python3"
  },
  "language_info": {
   "codemirror_mode": {
    "name": "ipython",
    "version": 3
   },
   "file_extension": ".py",
   "mimetype": "text/x-python",
   "name": "python",
   "nbconvert_exporter": "python",
   "pygments_lexer": "ipython3",
   "version": "3.11.3"
  }
 },
 "nbformat": 4,
 "nbformat_minor": 5
}
